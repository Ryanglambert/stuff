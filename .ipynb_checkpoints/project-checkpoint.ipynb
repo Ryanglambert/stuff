{
 "cells": [
  {
   "cell_type": "code",
   "execution_count": 1,
   "metadata": {
    "collapsed": true
   },
   "outputs": [],
   "source": [
    "import pandas as pd\n",
    "import seaborn as sns\n",
    "import numpy as np\n",
    "\n",
    "import matplotlib.pyplot as plt\n",
    "%matplotlib inline"
   ]
  },
  {
   "cell_type": "code",
   "execution_count": 2,
   "metadata": {
    "collapsed": true
   },
   "outputs": [],
   "source": [
    "df = pd.read_json('data_analysis.json')"
   ]
  },
  {
   "cell_type": "markdown",
   "metadata": {},
   "source": [
    "# Scope\n",
    "\n",
    "- Answer some of the basic questions that Radius finds generally useful\n",
    "    - Fill Rate\n",
    "    - Relevant Fill Rate\n",
    "    - Cardinality of the fields for this sample of 1M\n",
    "    \n",
    "- Find something interesting in the data."
   ]
  },
  {
   "cell_type": "markdown",
   "metadata": {},
   "source": [
    "### Percentage of records are filled for each field\n",
    "\n",
    "Both this and 'relevant_fill_rate' help us to understand what fields are filled less often than the rest.\n",
    "\n",
    "You can see in the plot below that the `phone` field is only filled at ~60% of the time. This fact influenced the rest of my analysis. This fact, and the conversation in our phone interview about how incomplete data is of interest inspired me to try to figure out associations with phone fill rate in particular. "
   ]
  },
  {
   "cell_type": "code",
   "execution_count": 3,
   "metadata": {},
   "outputs": [
    {
     "data": {
      "text/plain": [
       "<matplotlib.axes._subplots.AxesSubplot at 0x153f026d0>"
      ]
     },
     "execution_count": 3,
     "metadata": {},
     "output_type": "execute_result"
    },
    {
     "data": {
      "image/png": "[encoded data removed]",
      "text/plain": [
       "<matplotlib.figure.Figure at 0x1ba0f5f50>"
      ]
     },
     "metadata": {},
     "output_type": "display_data"
    }
   ],
   "source": [
    "def is_filled(sr):\n",
    "    nulls = sr.notnull()\n",
    "    return nulls\n",
    "\n",
    "\n",
    "filled = df.apply(is_filled)\n",
    "mean = filled.mean()\n",
    "mean.sort_values(ascending=False).plot(kind='barh')"
   ]
  },
  {
   "cell_type": "markdown",
   "metadata": {},
   "source": [
    "### Percentage of Records That Have Relevant Value\n",
    "\n",
    "This is very similar to the fill rate except that it's cleaned of any non relevant information; like the suggested ' ' empty string, but also some others (i.e. int(0)'s, and none strings like 'null')"
   ]
  },
  {
   "cell_type": "code",
   "execution_count": 4,
   "metadata": {},
   "outputs": [
    {
     "data": {
      "text/plain": [
       "<matplotlib.axes._subplots.AxesSubplot at 0x15b547590>"
      ]
     },
     "execution_count": 4,
     "metadata": {},
     "output_type": "execute_result"
    },
    {
     "data": {
      "image/png": "[encoded data removed]",
      "text/plain": [
       "<matplotlib.figure.Figure at 0x154c29610>"
      ]
     },
     "metadata": {},
     "output_type": "display_data"
    }
   ],
   "source": [
    "def is_relevant(r):\n",
    "    \"\"\"Generic relevancy function for most fields\"\"\"\n",
    "    if any([\n",
    "        r is None,\n",
    "        r == 'null',\n",
    "        r == 'none',\n",
    "        r == 'None',\n",
    "        r == 0,\n",
    "        r == '0'\n",
    "    ]):\n",
    "        return False\n",
    "    return True\n",
    "\n",
    "\n",
    "def is_relevant_name(r):\n",
    "    \"\"\"Relevancy of an entry in `name` field\"\"\"\n",
    "    if all([\n",
    "        isinstance(r, basestring) and r.replace(' ', ''),\n",
    "        r is not None,\n",
    "        r != 'null',\n",
    "        r != 'none'\n",
    "    ]):\n",
    "        return True\n",
    "    return False\n",
    "\n",
    "\n",
    "def make_relevant_matrix(df):\n",
    "    \"\"\"Make a boolean relevancy matrix\n",
    "    \n",
    "    `special_relevancy_functions` are different cases for different \n",
    "    columns\n",
    "    \"\"\"\n",
    "    relevant = pd.DataFrame([])\n",
    "    special_relevancy_functions = {\n",
    "        'name': is_relevant_name,\n",
    "        'headcount': is_relevant_name,\n",
    "        'time_in_business': is_relevant_name\n",
    "    }\n",
    "    for col in df.columns:\n",
    "        clean_func = special_relevancy_functions.get(col, is_relevant)\n",
    "        relevant[col] = df[col].map(clean_func)\n",
    "    return relevant\n",
    "\n",
    "\n",
    "relevant = make_relevant_matrix(df)\n",
    "relevant_mean = relevant.mean()\n",
    "relevant_mean.sort_values(ascending=False).plot(kind='barh')"
   ]
  },
  {
   "cell_type": "markdown",
   "metadata": {},
   "source": [
    "### Cardinality of Each Field (distinctness)"
   ]
  },
  {
   "cell_type": "code",
   "execution_count": 5,
   "metadata": {
    "collapsed": true
   },
   "outputs": [],
   "source": [
    "def cardinality(s):\n",
    "    s = s[s.map(is_relevant)]\n",
    "    return len(s.unique())\n",
    "\n",
    "\n",
    "phone_cardinality = cardinality(df['phone'])\n",
    "relevant_cardinality = df.agg(cardinality)"
   ]
  },
  {
   "cell_type": "code",
   "execution_count": 6,
   "metadata": {},
   "outputs": [
    {
     "data": {
      "text/plain": [
       "<matplotlib.axes._subplots.AxesSubplot at 0x15916b450>"
      ]
     },
     "execution_count": 6,
     "metadata": {},
     "output_type": "execute_result"
    },
    {
     "data": {
      "image/png": "[encoded data removed]",
      "text/plain": [
       "<matplotlib.figure.Figure at 0x106f80b90>"
      ]
     },
     "metadata": {},
     "output_type": "display_data"
    }
   ],
   "source": [
    "relevant_cardinality.plot(kind='barh')"
   ]
  },
  {
   "cell_type": "markdown",
   "metadata": {},
   "source": [
    "### Notable Observations: \n",
    "\n",
    "Since one of the motivators for joining a service like Radius has to do with getting a \"lead list\".  I'm going to say it's fair to put value on getting pieces of information that allow one to contact the business entities.  The fields related to \"contacting a business\" are it's **name**, **address** and **phone number**.\n",
    "\n",
    "I want to see how the other fields predict someone not filling in these fields with relevant information.\n",
    "\n",
    "These probabilities will help us decide which business demographics to target to increase **relevant fill rate**."
   ]
  },
  {
   "cell_type": "markdown",
   "metadata": {},
   "source": [
    "##### a bit more cleaning to set up an analysis "
   ]
  },
  {
   "cell_type": "code",
   "execution_count": 7,
   "metadata": {
    "collapsed": true
   },
   "outputs": [],
   "source": [
    "df_cleaned = df[relevant['revenue'] &\\\n",
    "                relevant['headcount'] &\\\n",
    "                relevant['category_code'] &\\\n",
    "                relevant['time_in_business']]"
   ]
  },
  {
   "cell_type": "code",
   "execution_count": 8,
   "metadata": {
    "collapsed": true
   },
   "outputs": [],
   "source": [
    "def make_naics_lookup():\n",
    "    naics = pd.read_excel('2017 NAICS Structure with Change Indicator.xlsx', header=2)\n",
    "    naics['2017 NAICS Code'] = naics['2017 NAICS Code'].map(lambda x: str(x))\n",
    "    name_lookup = dict(naics[['2017 NAICS Code', '2017 NAICS Title']].to_dict('split')['data'])\n",
    "    return name_lookup\n",
    "\n",
    "name_lookup = make_naics_lookup()"
   ]
  },
  {
   "cell_type": "code",
   "execution_count": 9,
   "metadata": {},
   "outputs": [
    {
     "name": "stderr",
     "output_type": "stream",
     "text": [
      "/usr/local/lib/python2.7/site-packages/ipykernel_launcher.py:2: SettingWithCopyWarning: \n",
      "A value is trying to be set on a copy of a slice from a DataFrame.\n",
      "Try using .loc[row_indexer,col_indexer] = value instead\n",
      "\n",
      "See the caveats in the documentation: http://pandas.pydata.org/pandas-docs/stable/indexing.html#indexing-view-versus-copy\n",
      "  \n"
     ]
    }
   ],
   "source": [
    "df_cleaned['category_3_num'] = df_cleaned['category_code'].map(\n",
    "    lambda x: name_lookup.get(\n",
    "        x[:2], # the tier 2 industry\n",
    "        name_lookup.get(\n",
    "            x[:3])) # the tier 3 industry if 2 doesn't have a lookup\n",
    ")"
   ]
  },
  {
   "cell_type": "markdown",
   "metadata": {},
   "source": [
    "##### split our data into predictors and targets"
   ]
  },
  {
   "cell_type": "code",
   "execution_count": 10,
   "metadata": {
    "collapsed": true
   },
   "outputs": [],
   "source": [
    "X = pd.get_dummies(df_cleaned[['category_3_num', 'headcount', 'time_in_business']])\n",
    "y = df_cleaned['phone'].map(is_relevant)\n",
    "\n",
    "assert y.shape[0] == X.shape[0]"
   ]
  },
  {
   "cell_type": "markdown",
   "metadata": {},
   "source": [
    "Looks at Instances where phone was omitted as compared to \n",
    "- category\n",
    "- headcount\n",
    "- time in business"
   ]
  },
  {
   "cell_type": "code",
   "execution_count": 11,
   "metadata": {
    "collapsed": true
   },
   "outputs": [],
   "source": [
    "from sklearn.linear_model.logistic import LogisticRegression\n",
    "from sklearn.model_selection import train_test_split\n",
    "from sklearn.metrics import roc_auc_score, roc_curve"
   ]
  },
  {
   "cell_type": "markdown",
   "metadata": {},
   "source": []
  },
  {
   "cell_type": "code",
   "execution_count": null,
   "metadata": {
    "collapsed": true
   },
   "outputs": [],
   "source": []
  },
  {
   "cell_type": "markdown",
   "metadata": {},
   "source": [
    "Try logistic regression to see what features contribute most to phone fill rate"
   ]
  },
  {
   "cell_type": "code",
   "execution_count": 12,
   "metadata": {},
   "outputs": [
    {
     "data": {
      "text/plain": [
       "LogisticRegression(C=1.0, class_weight=None, dual=False, fit_intercept=True,\n",
       "          intercept_scaling=1, max_iter=100, multi_class='ovr', n_jobs=-1,\n",
       "          penalty='l2', random_state=None, solver='sag', tol=0.0001,\n",
       "          verbose=0, warm_start=False)"
      ]
     },
     "execution_count": 12,
     "metadata": {},
     "output_type": "execute_result"
    }
   ],
   "source": [
    "X_train, X_test, y_train, y_test = train_test_split(X, y)\n",
    "model = LogisticRegression(solver='sag', n_jobs=-1)\n",
    "model.fit(X_train, y_train)"
   ]
  },
  {
   "cell_type": "code",
   "execution_count": 13,
   "metadata": {
    "collapsed": true
   },
   "outputs": [],
   "source": [
    "sorted_by_coeff = pd.DataFrame(\n",
    "    sorted(zip(X.columns, model.coef_.ravel()),\n",
    "           key=lambda x: abs(x[1]),\n",
    "           reverse=True),\n",
    "    columns=['feature_name', 'log_coeff']\n",
    ")"
   ]
  },
  {
   "cell_type": "markdown",
   "metadata": {},
   "source": [
    "### Notable Observations from building a model"
   ]
  },
  {
   "cell_type": "markdown",
   "metadata": {},
   "source": [
    "Take a brief look at the coefficients and see what contributes most greatly to whether someone will include relevant phone number information. \n",
    "\n",
    "From below it looks like time_in_business = 0 and headcount = 0 result in a higher likelihood of filling out the phone field.  \n",
    "\n",
    "*aside: To understand the coefficient in terms of probabilities I've had to go to https://stats.stackexchange.com/questions/20996/how-to-interpret-coefficients-from-a-logistic-regression*\n",
    "\n"
   ]
  },
  {
   "cell_type": "code",
   "execution_count": 14,
   "metadata": {
    "collapsed": true
   },
   "outputs": [],
   "source": [
    "sorted_by_coeff['log_odds'] = np.exp(sorted_by_coeff['log_coeff'])"
   ]
  },
  {
   "cell_type": "code",
   "execution_count": 15,
   "metadata": {
    "scrolled": true
   },
   "outputs": [
    {
     "data": {
      "text/html": [
       "<div>\n",
       "<style>\n",
       "    .dataframe thead tr:only-child th {\n",
       "        text-align: right;\n",
       "    }\n",
       "\n",
       "    .dataframe thead th {\n",
       "        text-align: left;\n",
       "    }\n",
       "\n",
       "    .dataframe tbody tr th {\n",
       "        vertical-align: top;\n",
       "    }\n",
       "</style>\n",
       "<table border=\"1\" class=\"dataframe\">\n",
       "  <thead>\n",
       "    <tr style=\"text-align: right;\">\n",
       "      <th></th>\n",
       "      <th>feature_name</th>\n",
       "      <th>log_coeff</th>\n",
       "      <th>log_odds</th>\n",
       "    </tr>\n",
       "  </thead>\n",
       "  <tbody>\n",
       "    <tr>\n",
       "      <th>0</th>\n",
       "      <td>time_in_business_0</td>\n",
       "      <td>0.878576</td>\n",
       "      <td>2.407468</td>\n",
       "    </tr>\n",
       "    <tr>\n",
       "      <th>1</th>\n",
       "      <td>headcount_0</td>\n",
       "      <td>0.679926</td>\n",
       "      <td>1.973732</td>\n",
       "    </tr>\n",
       "    <tr>\n",
       "      <th>2</th>\n",
       "      <td>time_in_business_3-5 years</td>\n",
       "      <td>-0.231574</td>\n",
       "      <td>0.793284</td>\n",
       "    </tr>\n",
       "    <tr>\n",
       "      <th>3</th>\n",
       "      <td>time_in_business_6-10 years</td>\n",
       "      <td>-0.225408</td>\n",
       "      <td>0.798191</td>\n",
       "    </tr>\n",
       "    <tr>\n",
       "      <th>4</th>\n",
       "      <td>time_in_business_10+ years</td>\n",
       "      <td>-0.222909</td>\n",
       "      <td>0.800188</td>\n",
       "    </tr>\n",
       "    <tr>\n",
       "      <th>5</th>\n",
       "      <td>time_in_business_1-2 years</td>\n",
       "      <td>-0.198688</td>\n",
       "      <td>0.819806</td>\n",
       "    </tr>\n",
       "    <tr>\n",
       "      <th>6</th>\n",
       "      <td>category_3_num_Pipeline TransportationT</td>\n",
       "      <td>-0.195518</td>\n",
       "      <td>0.822409</td>\n",
       "    </tr>\n",
       "    <tr>\n",
       "      <th>7</th>\n",
       "      <td>category_3_num_Rail TransportationT</td>\n",
       "      <td>0.153937</td>\n",
       "      <td>1.166417</td>\n",
       "    </tr>\n",
       "    <tr>\n",
       "      <th>8</th>\n",
       "      <td>category_3_num_Transportation Equipment Manufa...</td>\n",
       "      <td>-0.131489</td>\n",
       "      <td>0.876789</td>\n",
       "    </tr>\n",
       "    <tr>\n",
       "      <th>9</th>\n",
       "      <td>headcount_Over 1,000</td>\n",
       "      <td>-0.128363</td>\n",
       "      <td>0.879534</td>\n",
       "    </tr>\n",
       "    <tr>\n",
       "      <th>10</th>\n",
       "      <td>category_3_num_Leather and Allied Product Manu...</td>\n",
       "      <td>0.110973</td>\n",
       "      <td>1.117364</td>\n",
       "    </tr>\n",
       "    <tr>\n",
       "      <th>11</th>\n",
       "      <td>category_3_num_Paper ManufacturingT</td>\n",
       "      <td>0.108142</td>\n",
       "      <td>1.114206</td>\n",
       "    </tr>\n",
       "    <tr>\n",
       "      <th>12</th>\n",
       "      <td>category_3_num_Air TransportationT</td>\n",
       "      <td>0.104748</td>\n",
       "      <td>1.110431</td>\n",
       "    </tr>\n",
       "    <tr>\n",
       "      <th>13</th>\n",
       "      <td>category_3_num_Apparel ManufacturingT</td>\n",
       "      <td>-0.101529</td>\n",
       "      <td>0.903455</td>\n",
       "    </tr>\n",
       "    <tr>\n",
       "      <th>14</th>\n",
       "      <td>category_3_num_Scenic and Sightseeing Transpor...</td>\n",
       "      <td>0.099858</td>\n",
       "      <td>1.105014</td>\n",
       "    </tr>\n",
       "    <tr>\n",
       "      <th>15</th>\n",
       "      <td>category_3_num_Petroleum and Coal Products Man...</td>\n",
       "      <td>0.094886</td>\n",
       "      <td>1.099534</td>\n",
       "    </tr>\n",
       "    <tr>\n",
       "      <th>16</th>\n",
       "      <td>category_3_num_Furniture and Related Product M...</td>\n",
       "      <td>0.089809</td>\n",
       "      <td>1.093966</td>\n",
       "    </tr>\n",
       "    <tr>\n",
       "      <th>17</th>\n",
       "      <td>category_3_num_Agriculture, Forestry, Fishing ...</td>\n",
       "      <td>-0.084875</td>\n",
       "      <td>0.918627</td>\n",
       "    </tr>\n",
       "    <tr>\n",
       "      <th>18</th>\n",
       "      <td>headcount_20 to 49</td>\n",
       "      <td>-0.082923</td>\n",
       "      <td>0.920422</td>\n",
       "    </tr>\n",
       "    <tr>\n",
       "      <th>19</th>\n",
       "      <td>category_3_num_Couriers and MessengersT</td>\n",
       "      <td>-0.082646</td>\n",
       "      <td>0.920677</td>\n",
       "    </tr>\n",
       "    <tr>\n",
       "      <th>20</th>\n",
       "      <td>category_3_num_Electrical Equipment, Appliance...</td>\n",
       "      <td>-0.082602</td>\n",
       "      <td>0.920717</td>\n",
       "    </tr>\n",
       "    <tr>\n",
       "      <th>21</th>\n",
       "      <td>headcount_500 to 999</td>\n",
       "      <td>-0.081031</td>\n",
       "      <td>0.922165</td>\n",
       "    </tr>\n",
       "    <tr>\n",
       "      <th>22</th>\n",
       "      <td>headcount_100 to 249</td>\n",
       "      <td>-0.079031</td>\n",
       "      <td>0.924011</td>\n",
       "    </tr>\n",
       "    <tr>\n",
       "      <th>23</th>\n",
       "      <td>headcount_10 to 19</td>\n",
       "      <td>-0.079025</td>\n",
       "      <td>0.924017</td>\n",
       "    </tr>\n",
       "    <tr>\n",
       "      <th>24</th>\n",
       "      <td>headcount_1 to 4</td>\n",
       "      <td>-0.073100</td>\n",
       "      <td>0.929507</td>\n",
       "    </tr>\n",
       "    <tr>\n",
       "      <th>25</th>\n",
       "      <td>headcount_5 to 9</td>\n",
       "      <td>-0.072698</td>\n",
       "      <td>0.929881</td>\n",
       "    </tr>\n",
       "    <tr>\n",
       "      <th>26</th>\n",
       "      <td>category_3_num_Mining, Quarrying, and Oil and ...</td>\n",
       "      <td>-0.067693</td>\n",
       "      <td>0.934547</td>\n",
       "    </tr>\n",
       "    <tr>\n",
       "      <th>27</th>\n",
       "      <td>headcount_50 to 99</td>\n",
       "      <td>-0.065460</td>\n",
       "      <td>0.936636</td>\n",
       "    </tr>\n",
       "    <tr>\n",
       "      <th>28</th>\n",
       "      <td>category_3_num_Electronics and Appliance Stores</td>\n",
       "      <td>-0.058879</td>\n",
       "      <td>0.942821</td>\n",
       "    </tr>\n",
       "    <tr>\n",
       "      <th>29</th>\n",
       "      <td>category_3_num_Machinery ManufacturingT</td>\n",
       "      <td>-0.058566</td>\n",
       "      <td>0.943116</td>\n",
       "    </tr>\n",
       "    <tr>\n",
       "      <th>...</th>\n",
       "      <td>...</td>\n",
       "      <td>...</td>\n",
       "      <td>...</td>\n",
       "    </tr>\n",
       "    <tr>\n",
       "      <th>46</th>\n",
       "      <td>category_3_num_Postal ServiceT</td>\n",
       "      <td>0.029646</td>\n",
       "      <td>1.030089</td>\n",
       "    </tr>\n",
       "    <tr>\n",
       "      <th>47</th>\n",
       "      <td>category_3_num_ConstructionT</td>\n",
       "      <td>-0.028830</td>\n",
       "      <td>0.971582</td>\n",
       "    </tr>\n",
       "    <tr>\n",
       "      <th>48</th>\n",
       "      <td>category_3_num_Primary Metal ManufacturingT</td>\n",
       "      <td>-0.028523</td>\n",
       "      <td>0.971879</td>\n",
       "    </tr>\n",
       "    <tr>\n",
       "      <th>49</th>\n",
       "      <td>category_3_num_Transit and Ground Passenger Tr...</td>\n",
       "      <td>-0.026136</td>\n",
       "      <td>0.974202</td>\n",
       "    </tr>\n",
       "    <tr>\n",
       "      <th>50</th>\n",
       "      <td>category_3_num_Educational ServicesT</td>\n",
       "      <td>-0.026100</td>\n",
       "      <td>0.974238</td>\n",
       "    </tr>\n",
       "    <tr>\n",
       "      <th>51</th>\n",
       "      <td>category_3_num_Gasoline Stations</td>\n",
       "      <td>-0.024554</td>\n",
       "      <td>0.975745</td>\n",
       "    </tr>\n",
       "    <tr>\n",
       "      <th>52</th>\n",
       "      <td>category_3_num_Textile MillsT</td>\n",
       "      <td>-0.023893</td>\n",
       "      <td>0.976390</td>\n",
       "    </tr>\n",
       "    <tr>\n",
       "      <th>53</th>\n",
       "      <td>category_3_num_Building Material and Garden Eq...</td>\n",
       "      <td>-0.023146</td>\n",
       "      <td>0.977119</td>\n",
       "    </tr>\n",
       "    <tr>\n",
       "      <th>54</th>\n",
       "      <td>category_3_num_Real Estate and Rental and Leas...</td>\n",
       "      <td>-0.022822</td>\n",
       "      <td>0.977436</td>\n",
       "    </tr>\n",
       "    <tr>\n",
       "      <th>55</th>\n",
       "      <td>category_3_num_Motor Vehicle and Parts Dealers</td>\n",
       "      <td>-0.022546</td>\n",
       "      <td>0.977706</td>\n",
       "    </tr>\n",
       "    <tr>\n",
       "      <th>56</th>\n",
       "      <td>category_3_num_Other Services (except Public A...</td>\n",
       "      <td>-0.022043</td>\n",
       "      <td>0.978199</td>\n",
       "    </tr>\n",
       "    <tr>\n",
       "      <th>57</th>\n",
       "      <td>category_3_num_Printing and Related Support Ac...</td>\n",
       "      <td>-0.019578</td>\n",
       "      <td>0.980612</td>\n",
       "    </tr>\n",
       "    <tr>\n",
       "      <th>58</th>\n",
       "      <td>headcount_250 to 499</td>\n",
       "      <td>-0.018297</td>\n",
       "      <td>0.981870</td>\n",
       "    </tr>\n",
       "    <tr>\n",
       "      <th>59</th>\n",
       "      <td>category_3_num_UtilitiesT</td>\n",
       "      <td>-0.018005</td>\n",
       "      <td>0.982156</td>\n",
       "    </tr>\n",
       "    <tr>\n",
       "      <th>60</th>\n",
       "      <td>category_3_num_Management of Companies and Ent...</td>\n",
       "      <td>-0.016580</td>\n",
       "      <td>0.983556</td>\n",
       "    </tr>\n",
       "    <tr>\n",
       "      <th>61</th>\n",
       "      <td>category_3_num_Food ManufacturingT</td>\n",
       "      <td>0.014655</td>\n",
       "      <td>1.014763</td>\n",
       "    </tr>\n",
       "    <tr>\n",
       "      <th>62</th>\n",
       "      <td>category_3_num_Arts, Entertainment, and Recrea...</td>\n",
       "      <td>-0.012800</td>\n",
       "      <td>0.987282</td>\n",
       "    </tr>\n",
       "    <tr>\n",
       "      <th>63</th>\n",
       "      <td>category_3_num_Plastics and Rubber Products Ma...</td>\n",
       "      <td>-0.011707</td>\n",
       "      <td>0.988362</td>\n",
       "    </tr>\n",
       "    <tr>\n",
       "      <th>64</th>\n",
       "      <td>category_3_num_Textile Product MillsT</td>\n",
       "      <td>-0.011288</td>\n",
       "      <td>0.988775</td>\n",
       "    </tr>\n",
       "    <tr>\n",
       "      <th>65</th>\n",
       "      <td>category_3_num_Warehousing and StorageT</td>\n",
       "      <td>0.010825</td>\n",
       "      <td>1.010884</td>\n",
       "    </tr>\n",
       "    <tr>\n",
       "      <th>66</th>\n",
       "      <td>category_3_num_InformationT</td>\n",
       "      <td>-0.010695</td>\n",
       "      <td>0.989362</td>\n",
       "    </tr>\n",
       "    <tr>\n",
       "      <th>67</th>\n",
       "      <td>category_3_num_Water TransportationT</td>\n",
       "      <td>0.009692</td>\n",
       "      <td>1.009739</td>\n",
       "    </tr>\n",
       "    <tr>\n",
       "      <th>68</th>\n",
       "      <td>category_3_num_Support Activities for Transpor...</td>\n",
       "      <td>0.009159</td>\n",
       "      <td>1.009201</td>\n",
       "    </tr>\n",
       "    <tr>\n",
       "      <th>69</th>\n",
       "      <td>category_3_num_Health and Personal Care Stores</td>\n",
       "      <td>0.008851</td>\n",
       "      <td>1.008891</td>\n",
       "    </tr>\n",
       "    <tr>\n",
       "      <th>70</th>\n",
       "      <td>category_3_num_Miscellaneous ManufacturingT</td>\n",
       "      <td>0.007242</td>\n",
       "      <td>1.007268</td>\n",
       "    </tr>\n",
       "    <tr>\n",
       "      <th>71</th>\n",
       "      <td>category_3_num_Fabricated Metal Product Manufa...</td>\n",
       "      <td>-0.006572</td>\n",
       "      <td>0.993450</td>\n",
       "    </tr>\n",
       "    <tr>\n",
       "      <th>72</th>\n",
       "      <td>category_3_num_Clothing and Clothing Accessori...</td>\n",
       "      <td>0.005884</td>\n",
       "      <td>1.005901</td>\n",
       "    </tr>\n",
       "    <tr>\n",
       "      <th>73</th>\n",
       "      <td>category_3_num_Public AdministrationT</td>\n",
       "      <td>-0.004793</td>\n",
       "      <td>0.995218</td>\n",
       "    </tr>\n",
       "    <tr>\n",
       "      <th>74</th>\n",
       "      <td>category_3_num_Furniture and Home Furnishings ...</td>\n",
       "      <td>0.003835</td>\n",
       "      <td>1.003842</td>\n",
       "    </tr>\n",
       "    <tr>\n",
       "      <th>75</th>\n",
       "      <td>category_3_num_Chemical ManufacturingT</td>\n",
       "      <td>-0.003521</td>\n",
       "      <td>0.996485</td>\n",
       "    </tr>\n",
       "  </tbody>\n",
       "</table>\n",
       "<p>76 rows × 3 columns</p>\n",
       "</div>"
      ],
      "text/plain": [
       "                                         feature_name  log_coeff  log_odds\n",
       "0                                  time_in_business_0   0.878576  2.407468\n",
       "1                                         headcount_0   0.679926  1.973732\n",
       "2                          time_in_business_3-5 years  -0.231574  0.793284\n",
       "3                         time_in_business_6-10 years  -0.225408  0.798191\n",
       "4                          time_in_business_10+ years  -0.222909  0.800188\n",
       "5                          time_in_business_1-2 years  -0.198688  0.819806\n",
       "6            category_3_num_Pipeline TransportationT   -0.195518  0.822409\n",
       "7                category_3_num_Rail TransportationT    0.153937  1.166417\n",
       "8   category_3_num_Transportation Equipment Manufa...  -0.131489  0.876789\n",
       "9                                headcount_Over 1,000  -0.128363  0.879534\n",
       "10  category_3_num_Leather and Allied Product Manu...   0.110973  1.117364\n",
       "11               category_3_num_Paper ManufacturingT    0.108142  1.114206\n",
       "12                category_3_num_Air TransportationT    0.104748  1.110431\n",
       "13             category_3_num_Apparel ManufacturingT   -0.101529  0.903455\n",
       "14  category_3_num_Scenic and Sightseeing Transpor...   0.099858  1.105014\n",
       "15  category_3_num_Petroleum and Coal Products Man...   0.094886  1.099534\n",
       "16  category_3_num_Furniture and Related Product M...   0.089809  1.093966\n",
       "17  category_3_num_Agriculture, Forestry, Fishing ...  -0.084875  0.918627\n",
       "18                                 headcount_20 to 49  -0.082923  0.920422\n",
       "19           category_3_num_Couriers and MessengersT   -0.082646  0.920677\n",
       "20  category_3_num_Electrical Equipment, Appliance...  -0.082602  0.920717\n",
       "21                               headcount_500 to 999  -0.081031  0.922165\n",
       "22                               headcount_100 to 249  -0.079031  0.924011\n",
       "23                                 headcount_10 to 19  -0.079025  0.924017\n",
       "24                                   headcount_1 to 4  -0.073100  0.929507\n",
       "25                                   headcount_5 to 9  -0.072698  0.929881\n",
       "26  category_3_num_Mining, Quarrying, and Oil and ...  -0.067693  0.934547\n",
       "27                                 headcount_50 to 99  -0.065460  0.936636\n",
       "28   category_3_num_Electronics and Appliance Stores   -0.058879  0.942821\n",
       "29           category_3_num_Machinery ManufacturingT   -0.058566  0.943116\n",
       "..                                                ...        ...       ...\n",
       "46                    category_3_num_Postal ServiceT    0.029646  1.030089\n",
       "47                       category_3_num_ConstructionT  -0.028830  0.971582\n",
       "48       category_3_num_Primary Metal ManufacturingT   -0.028523  0.971879\n",
       "49  category_3_num_Transit and Ground Passenger Tr...  -0.026136  0.974202\n",
       "50               category_3_num_Educational ServicesT  -0.026100  0.974238\n",
       "51                  category_3_num_Gasoline Stations   -0.024554  0.975745\n",
       "52                     category_3_num_Textile MillsT   -0.023893  0.976390\n",
       "53  category_3_num_Building Material and Garden Eq...  -0.023146  0.977119\n",
       "54  category_3_num_Real Estate and Rental and Leas...  -0.022822  0.977436\n",
       "55    category_3_num_Motor Vehicle and Parts Dealers   -0.022546  0.977706\n",
       "56  category_3_num_Other Services (except Public A...  -0.022043  0.978199\n",
       "57  category_3_num_Printing and Related Support Ac...  -0.019578  0.980612\n",
       "58                               headcount_250 to 499  -0.018297  0.981870\n",
       "59                          category_3_num_UtilitiesT  -0.018005  0.982156\n",
       "60  category_3_num_Management of Companies and Ent...  -0.016580  0.983556\n",
       "61                category_3_num_Food ManufacturingT    0.014655  1.014763\n",
       "62  category_3_num_Arts, Entertainment, and Recrea...  -0.012800  0.987282\n",
       "63  category_3_num_Plastics and Rubber Products Ma...  -0.011707  0.988362\n",
       "64             category_3_num_Textile Product MillsT   -0.011288  0.988775\n",
       "65           category_3_num_Warehousing and StorageT    0.010825  1.010884\n",
       "66                        category_3_num_InformationT  -0.010695  0.989362\n",
       "67              category_3_num_Water TransportationT    0.009692  1.009739\n",
       "68  category_3_num_Support Activities for Transpor...   0.009159  1.009201\n",
       "69    category_3_num_Health and Personal Care Stores    0.008851  1.008891\n",
       "70       category_3_num_Miscellaneous ManufacturingT    0.007242  1.007268\n",
       "71  category_3_num_Fabricated Metal Product Manufa...  -0.006572  0.993450\n",
       "72  category_3_num_Clothing and Clothing Accessori...   0.005884  1.005901\n",
       "73              category_3_num_Public AdministrationT  -0.004793  0.995218\n",
       "74  category_3_num_Furniture and Home Furnishings ...   0.003835  1.003842\n",
       "75            category_3_num_Chemical ManufacturingT   -0.003521  0.996485\n",
       "\n",
       "[76 rows x 3 columns]"
      ]
     },
     "execution_count": 15,
     "metadata": {},
     "output_type": "execute_result"
    }
   ],
   "source": [
    "sorted_by_coeff"
   ]
  },
  {
   "cell_type": "code",
   "execution_count": null,
   "metadata": {
    "collapsed": true
   },
   "outputs": [],
   "source": []
  },
  {
   "cell_type": "markdown",
   "metadata": {},
   "source": [
    "If you're \n",
    "- time in business is 0 and \n",
    "- headcount is 0 \n",
    "\n",
    "you're  ~1.9 times as likely to enter a phone number. \n",
    "\n",
    "This feels right as well.  If I'm an entrepreneur just starting out with a business, looking for leads, being called by too many people is probably my last concern.  I'm probably more excited about getting access to so many other people's phone numbers in the process. \n",
    "\n",
    "If I'm not a company that's just starting out, this is probably less likely the case.  Looking at the time in business examples:\n",
    "- 3-5 years \n",
    "- 6-10 years\n",
    "\n",
    "Those companies are ~.85 times as likely to report their phone numbers than people that aren't in those categories.  \n",
    "\n",
    "**But there are soo many features, especially for a logistic model!, let me try something a bit different**\n",
    "\n",
    "I'm going to turn the categorical values into scalars to reduce the number of input variables and hopefully make these observations more interpretable."
   ]
  },
  {
   "cell_type": "code",
   "execution_count": 17,
   "metadata": {},
   "outputs": [
    {
     "data": {
      "text/plain": [
       "array([u'10+ years', u'6-10 years', u'1-2 years', u'3-5 years', u'0'], dtype=object)"
      ]
     },
     "execution_count": 17,
     "metadata": {},
     "output_type": "execute_result"
    }
   ],
   "source": [
    "df_cleaned['time_in_business'].unique()"
   ]
  },
  {
   "cell_type": "code",
   "execution_count": 18,
   "metadata": {},
   "outputs": [
    {
     "data": {
      "text/plain": [
       "array([u'50 to 99', u'1 to 4', u'5 to 9', u'20 to 49', u'10 to 19',\n",
       "       u'100 to 249', u'250 to 499', u'500 to 999', u'Over 1,000', u'0'], dtype=object)"
      ]
     },
     "execution_count": 18,
     "metadata": {},
     "output_type": "execute_result"
    }
   ],
   "source": [
    "df_cleaned['headcount'].unique()"
   ]
  },
  {
   "cell_type": "code",
   "execution_count": 19,
   "metadata": {
    "collapsed": true
   },
   "outputs": [],
   "source": [
    "lookup = dict(zip(df_cleaned['time_in_business'].unique(), [\n",
    "    None, # we won't use 10 + since we can't say what the length of time is :-/\n",
    "    8.,\n",
    "    1.5,\n",
    "    4,\n",
    "    0\n",
    "]))\n",
    "\n",
    "def make_time_in_business_scalar(entry):\n",
    "    return lookup.get(entry, None)\n",
    "\n",
    "headcount_lookup = dict(zip(df_cleaned['headcount'].unique(),\n",
    "                            [75., 2.5, 6.5, 34.5, 14.5, 74.5, 374.5, 749.5, None, 0]))\n",
    "\n",
    "def make_headcount_into_scalar(entry):\n",
    "    return headcount_lookup.get(entry, None)"
   ]
  },
  {
   "cell_type": "code",
   "execution_count": 20,
   "metadata": {
    "collapsed": true
   },
   "outputs": [
    {
     "name": "stderr",
     "output_type": "stream",
     "text": [
      "/usr/local/lib/python2.7/site-packages/ipykernel_launcher.py:1: SettingWithCopyWarning: \n",
      "A value is trying to be set on a copy of a slice from a DataFrame.\n",
      "Try using .loc[row_indexer,col_indexer] = value instead\n",
      "\n",
      "See the caveats in the documentation: http://pandas.pydata.org/pandas-docs/stable/indexing.html#indexing-view-versus-copy\n",
      "  \"\"\"Entry point for launching an IPython kernel.\n"
     ]
    }
   ],
   "source": [
    "df_cleaned['time_in_business_scalar'] = df_cleaned['time_in_business'].map(make_time_in_business_scalar)"
   ]
  },
  {
   "cell_type": "code",
   "execution_count": 21,
   "metadata": {
    "collapsed": true
   },
   "outputs": [
    {
     "name": "stderr",
     "output_type": "stream",
     "text": [
      "/usr/local/lib/python2.7/site-packages/ipykernel_launcher.py:1: SettingWithCopyWarning: \n",
      "A value is trying to be set on a copy of a slice from a DataFrame.\n",
      "Try using .loc[row_indexer,col_indexer] = value instead\n",
      "\n",
      "See the caveats in the documentation: http://pandas.pydata.org/pandas-docs/stable/indexing.html#indexing-view-versus-copy\n",
      "  \"\"\"Entry point for launching an IPython kernel.\n"
     ]
    }
   ],
   "source": [
    "df_cleaned['headcount_scalar'] = df_cleaned['headcount'].map(make_headcount_into_scalar)"
   ]
  },
  {
   "cell_type": "code",
   "execution_count": 22,
   "metadata": {
    "collapsed": true
   },
   "outputs": [],
   "source": [
    "X = df_cleaned[['time_in_business_scalar', 'headcount_scalar']]\n",
    "y = df_cleaned['phone'].map(is_relevant)\n",
    "X = X.dropna()\n",
    "y = y[X.index]\n",
    "assert y.shape[0] == X.shape[0]"
   ]
  },
  {
   "cell_type": "markdown",
   "metadata": {},
   "source": [
    "Because I'm using 'saga' I will scale the data to between 0 and 1"
   ]
  },
  {
   "cell_type": "code",
   "execution_count": 24,
   "metadata": {
    "collapsed": true
   },
   "outputs": [],
   "source": [
    "model = LogisticRegression()"
   ]
  },
  {
   "cell_type": "code",
   "execution_count": 25,
   "metadata": {},
   "outputs": [
    {
     "data": {
      "text/plain": [
       "LogisticRegression(C=1.0, class_weight=None, dual=False, fit_intercept=True,\n",
       "          intercept_scaling=1, max_iter=100, multi_class='ovr', n_jobs=1,\n",
       "          penalty='l2', random_state=None, solver='liblinear', tol=0.0001,\n",
       "          verbose=0, warm_start=False)"
      ]
     },
     "execution_count": 25,
     "metadata": {},
     "output_type": "execute_result"
    }
   ],
   "source": [
    "# notice scaling\n",
    "model.fit(X/X.max(), y)"
   ]
  },
  {
   "cell_type": "code",
   "execution_count": 27,
   "metadata": {},
   "outputs": [
    {
     "data": {
      "text/plain": [
       "array([[ 0.00127264, -0.00241593]])"
      ]
     },
     "execution_count": 27,
     "metadata": {},
     "output_type": "execute_result"
    }
   ],
   "source": [
    "model.coef_"
   ]
  },
  {
   "cell_type": "markdown",
   "metadata": {},
   "source": [
    "very little association.  I should have looked at this first"
   ]
  },
  {
   "cell_type": "markdown",
   "metadata": {},
   "source": [
    "### Conclusion"
   ]
  },
  {
   "cell_type": "markdown",
   "metadata": {
    "collapsed": true
   },
   "source": [
    "Using Logistic Regression I wasn't able to find any strong associations beyond whether or not a company was just starting out.  \n",
    "\n",
    "I did find that companies with a timeline_in_business of 0 or headcount of 0 are positively associated with phone field fill rates. \n",
    "\n",
    "In hindsight, having found such a small (or none) signal I'm thinking the next step is to do this process again but for each business category. \n",
    "\n",
    "With a quick look below:"
   ]
  },
  {
   "cell_type": "code",
   "execution_count": 58,
   "metadata": {
    "collapsed": true
   },
   "outputs": [],
   "source": [
    "one_category = df_cleaned[df_cleaned['category_code'] == '44420000']"
   ]
  },
  {
   "cell_type": "code",
   "execution_count": 79,
   "metadata": {
    "collapsed": true
   },
   "outputs": [],
   "source": [
    "X = one_category['time_in_business_scalar']\n",
    "X = X.dropna()\n",
    "\n",
    "y = relevant['phone'][X.index]\n",
    "\n",
    "assert y.shape[0] == X.shape[0]"
   ]
  },
  {
   "cell_type": "code",
   "execution_count": 81,
   "metadata": {},
   "outputs": [
    {
     "name": "stderr",
     "output_type": "stream",
     "text": [
      "/usr/local/lib/python2.7/site-packages/ipykernel_launcher.py:1: FutureWarning: reshape is deprecated and will raise in a subsequent release. Please use .values.reshape(...) instead\n",
      "  \"\"\"Entry point for launching an IPython kernel.\n"
     ]
    },
    {
     "data": {
      "text/plain": [
       "LogisticRegression(C=1.0, class_weight=None, dual=False, fit_intercept=True,\n",
       "          intercept_scaling=1, max_iter=100, multi_class='ovr', n_jobs=1,\n",
       "          penalty='l2', random_state=None, solver='liblinear', tol=0.0001,\n",
       "          verbose=0, warm_start=False)"
      ]
     },
     "execution_count": 81,
     "metadata": {},
     "output_type": "execute_result"
    }
   ],
   "source": [
    "X = X.reshape(-1, 1)\n",
    "model.fit(X/X.max(), y)"
   ]
  },
  {
   "cell_type": "code",
   "execution_count": 82,
   "metadata": {},
   "outputs": [
    {
     "data": {
      "text/plain": [
       "array([[ 0.16289633]])"
      ]
     },
     "execution_count": 82,
     "metadata": {},
     "output_type": "execute_result"
    }
   ],
   "source": [
    "model.coef_"
   ]
  },
  {
   "cell_type": "markdown",
   "metadata": {
    "collapsed": true
   },
   "source": [
    "There is a stronger association found with headcount within one of our categories.\n",
    "\n",
    "With more time I would make models within each industry.\n",
    "\n",
    "This is just a starting point!"
   ]
  }
 ],
 "metadata": {
  "kernelspec": {
   "display_name": "Python 2",
   "language": "python",
   "name": "python2"
  },
  "language_info": {
   "codemirror_mode": {
    "name": "ipython",
    "version": 2
   },
   "file_extension": ".py",
   "mimetype": "text/x-python",
   "name": "python",
   "nbconvert_exporter": "python",
   "pygments_lexer": "ipython2",
   "version": "2.7.13"
  }
 },
 "nbformat": 4,
 "nbformat_minor": 2
}
